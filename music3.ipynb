{
  "nbformat": 4,
  "nbformat_minor": 0,
  "metadata": {
    "colab": {
      "name": "music3.ipynb",
      "provenance": [],
      "collapsed_sections": []
    },
    "kernelspec": {
      "name": "python3",
      "display_name": "Python 3"
    },
    "language_info": {
      "name": "python"
    }
  },
  "cells": [
    {
      "cell_type": "code",
      "metadata": {
        "colab": {
          "base_uri": "https://localhost:8080/"
        },
        "id": "hjdtDNWdq2jL",
        "outputId": "8ba6e973-e22b-46fe-8b62-b95d814c4f19"
      },
      "source": [
        "from google.colab import drive\n",
        "drive.mount('/content/drive',force_remount=True)"
      ],
      "execution_count": 1,
      "outputs": [
        {
          "output_type": "stream",
          "text": [
            "Mounted at /content/drive\n"
          ],
          "name": "stdout"
        }
      ]
    },
    {
      "cell_type": "code",
      "metadata": {
        "colab": {
          "base_uri": "https://localhost:8080/"
        },
        "id": "Vgy1eMvuq-ty",
        "outputId": "a71111b3-c692-4534-9577-7543fbcd2307"
      },
      "source": [
        "!pip install essentia"
      ],
      "execution_count": 2,
      "outputs": [
        {
          "output_type": "stream",
          "text": [
            "Collecting essentia\n",
            "\u001b[?25l  Downloading https://files.pythonhosted.org/packages/71/fd/cbb601736ebdf5bfdaf8d215e7741b76b6519371ddf1f64427cf275af05d/essentia-2.1b6.dev374-cp37-cp37m-manylinux1_x86_64.whl (12.0MB)\n",
            "\u001b[K     |████████████████████████████████| 12.0MB 309kB/s \n",
            "\u001b[?25hRequirement already satisfied: six in /usr/local/lib/python3.7/dist-packages (from essentia) (1.15.0)\n",
            "Requirement already satisfied: pyyaml in /usr/local/lib/python3.7/dist-packages (from essentia) (3.13)\n",
            "Requirement already satisfied: numpy>=1.8.2 in /usr/local/lib/python3.7/dist-packages (from essentia) (1.19.5)\n",
            "Installing collected packages: essentia\n",
            "Successfully installed essentia-2.1b6.dev374\n"
          ],
          "name": "stdout"
        }
      ]
    },
    {
      "cell_type": "code",
      "metadata": {
        "id": "oXcgLJfYq4lG"
      },
      "source": [
        "import numpy as np\n",
        "import pandas as pd\n",
        "import librosa\n",
        "import os\n",
        "from glob import glob\n",
        "from scipy.stats import norm, kurtosis, skew, entropy\n",
        "from tqdm import tqdm\n",
        "from sklearn.model_selection import train_test_split, cross_val_score\n",
        "import essentia\n",
        "import essentia.standard as es"
      ],
      "execution_count": 3,
      "outputs": []
    },
    {
      "cell_type": "code",
      "metadata": {
        "id": "kRqaVFsIrCfG"
      },
      "source": [
        "class FeatureExtracter():\n",
        "    df = pd.DataFrame()\n",
        "    def __init__(self, path, mfcc=True, entropy=False):\n",
        "        self.path = path\n",
        "        self.data_files = glob(path + \"/*/*.wav\")\n",
        "        self.spectral_features = ['spectral_centroid', 'spectral_bandwidth','spectral_contrast', 'spectral_flatness',\n",
        "                    'spectral_rolloff', 'zero_crossing_rate','poly_features', 'rms']\n",
        "        self.mfcc = mfcc\n",
        "        self.entropy = entropy\n",
        "        self.spectral_columns = []\n",
        "        self.lpc_columns = []\n",
        "        if mfcc:\n",
        "            self.spectral_features.append('mfcc')\n",
        "        \n",
        "        self.genres = {v:k for k,v in enumerate([i[54:] for i in glob(path + \"/*\")])}\n",
        "        self.fields = ['mean', 'std', 'kurtosis', 'skewness', 'median', 'min', 'max']\n",
        "        if entropy:\n",
        "            self.fields.append('entropy')\n",
        "        \n",
        "        classes = list(self.genres)\n",
        "\n",
        "    \n",
        "    def getColumnNames(self):\n",
        "        features = []\n",
        "        for i in self.spectral_features:\n",
        "            features.append(i)\n",
        "            features.append(i + \"_delta1\")\n",
        "            features.append(i + \"_delta2\")\n",
        "\n",
        "        spectral_columns = [i+\"_\"+j for i in features for j in self.fields]\n",
        "        \n",
        "        lpc_columns = [\"LPC_\"+i for i in self.fields]\n",
        "\n",
        "        return spectral_columns, lpc_columns\n",
        "    \n",
        "    def calculate_values(self, arr):\n",
        "        mean = arr.mean()\n",
        "        std = arr.std()\n",
        "        kurt = kurtosis(arr.T)[0]\n",
        "        skewness = skew(arr.T)[0]\n",
        "        median = np.median(arr)\n",
        "        min_val = arr.min()\n",
        "        max_val = arr.max()\n",
        "        values = list((mean, std, kurt, skewness, median, min_val, max_val))\n",
        "        if self.entropy:\n",
        "            ent = entropy(arr)\n",
        "            values.append(ent)\n",
        "        return values\n",
        "\n",
        "    def extract(self):\n",
        "        spectral_df = []\n",
        "        for i in tqdm(self.data_files):\n",
        "            x, sr = librosa.load(i)\n",
        "            line = []\n",
        "            for k in self.spectral_features:\n",
        "                if k == 'spectral_flatness':\n",
        "                    arr = eval(\"librosa.feature.{}(x)\".format(k))\n",
        "                else:\n",
        "                    arr = eval(\"librosa.feature.{}(x,sr)\".format(k))\n",
        "                arr_delta1 = librosa.feature.delta(arr, order=1)\n",
        "                arr_delta2 = librosa.feature.delta(arr, order=2)\n",
        "                line += self.calculate_values(arr)\n",
        "                line += self.calculate_values(arr_delta1)\n",
        "                line += self.calculate_values(arr_delta2)\n",
        "            spectral_df.append(line.copy())\n",
        "\n",
        "        lpc_df = []\n",
        "        for i in tqdm(self.data_files):\n",
        "            line = []\n",
        "            audio = es.MonoLoader(filename=i)()\n",
        "            lpc = es.LPC()(audio)[0]\n",
        "            mean = lpc.mean()\n",
        "            std = lpc.std()\n",
        "            kurt = kurtosis(lpc)\n",
        "            skewness = skew(lpc)\n",
        "            median = np.median(lpc)\n",
        "            min_val = lpc.min()\n",
        "            max_val = lpc.max()\n",
        "            line += [mean, std, kurt, skewness, median, min_val, max_val]\n",
        "            lpc_df.append(line)\n",
        "        \n",
        "        spectral_columns, lpc_columns = self.getColumnNames()\n",
        "\n",
        "        spectral_df = pd.DataFrame(data=spectral_df, columns=spectral_columns)\n",
        "        lpc_df = pd.DataFrame(data=lpc_df, columns=lpc_columns)\n",
        "        df = pd.concat([spectral_df, lpc_df], axis=1)\n",
        "        labels = [self.genres[k] for k in [i[54:54+(i[54:].find(\"/\"))] for i in self.data_files]]\n",
        "        df['labels'] = labels.copy()\n",
        "        self.df = df\n",
        "        return self.df\n",
        "\n",
        "    def save(self, path):\n",
        "        self.df.to_pickle(path, protocol=4)"
      ],
      "execution_count": 4,
      "outputs": []
    },
    {
      "cell_type": "code",
      "metadata": {
        "id": "-C7o9v3Ls1oz"
      },
      "source": [
        "extracter = FeatureExtracter(\"/content/drive/MyDrive/For_Colab/Data/genres_original\",\n",
        "                             mfcc=True, entropy=False)"
      ],
      "execution_count": null,
      "outputs": []
    },
    {
      "cell_type": "code",
      "metadata": {
        "colab": {
          "base_uri": "https://localhost:8080/"
        },
        "id": "RC4tY7BmyLhh",
        "outputId": "373035a6-bcfd-45f2-f4b8-cf44cabe6836"
      },
      "source": [
        "df = extracter.extract()"
      ],
      "execution_count": null,
      "outputs": [
        {
          "output_type": "stream",
          "text": [
            "100%|██████████| 1000/1000 [16:49<00:00,  1.01s/it]\n",
            "100%|██████████| 1000/1000 [11:30<00:00,  1.45it/s]\n"
          ],
          "name": "stderr"
        }
      ]
    },
    {
      "cell_type": "code",
      "metadata": {
        "id": "eZ3Dwfk4MauH"
      },
      "source": [
        "extracter.save(\"/content/drive/MyDrive/For_Colab/Data/extracter.pkl\")"
      ],
      "execution_count": null,
      "outputs": []
    },
    {
      "cell_type": "code",
      "metadata": {
        "colab": {
          "base_uri": "https://localhost:8080/",
          "height": 253
        },
        "id": "L4pCaytvnHPV",
        "outputId": "d00e079f-78d7-4d73-a258-e7530e62b598"
      },
      "source": [
        "df = pd.read_pickle(\"/content/drive/MyDrive/For_Colab/Data/extracter.pkl\")\n",
        "df.head()"
      ],
      "execution_count": 5,
      "outputs": [
        {
          "output_type": "execute_result",
          "data": {
            "text/html": [
              "<div>\n",
              "<style scoped>\n",
              "    .dataframe tbody tr th:only-of-type {\n",
              "        vertical-align: middle;\n",
              "    }\n",
              "\n",
              "    .dataframe tbody tr th {\n",
              "        vertical-align: top;\n",
              "    }\n",
              "\n",
              "    .dataframe thead th {\n",
              "        text-align: right;\n",
              "    }\n",
              "</style>\n",
              "<table border=\"1\" class=\"dataframe\">\n",
              "  <thead>\n",
              "    <tr style=\"text-align: right;\">\n",
              "      <th></th>\n",
              "      <th>spectral_centroid_mean</th>\n",
              "      <th>spectral_centroid_std</th>\n",
              "      <th>spectral_centroid_kurtosis</th>\n",
              "      <th>spectral_centroid_skewness</th>\n",
              "      <th>spectral_centroid_median</th>\n",
              "      <th>spectral_centroid_min</th>\n",
              "      <th>spectral_centroid_max</th>\n",
              "      <th>spectral_centroid_delta1_mean</th>\n",
              "      <th>spectral_centroid_delta1_std</th>\n",
              "      <th>spectral_centroid_delta1_kurtosis</th>\n",
              "      <th>spectral_centroid_delta1_skewness</th>\n",
              "      <th>spectral_centroid_delta1_median</th>\n",
              "      <th>spectral_centroid_delta1_min</th>\n",
              "      <th>spectral_centroid_delta1_max</th>\n",
              "      <th>spectral_centroid_delta2_mean</th>\n",
              "      <th>spectral_centroid_delta2_std</th>\n",
              "      <th>spectral_centroid_delta2_kurtosis</th>\n",
              "      <th>spectral_centroid_delta2_skewness</th>\n",
              "      <th>spectral_centroid_delta2_median</th>\n",
              "      <th>spectral_centroid_delta2_min</th>\n",
              "      <th>spectral_centroid_delta2_max</th>\n",
              "      <th>spectral_bandwidth_mean</th>\n",
              "      <th>spectral_bandwidth_std</th>\n",
              "      <th>spectral_bandwidth_kurtosis</th>\n",
              "      <th>spectral_bandwidth_skewness</th>\n",
              "      <th>spectral_bandwidth_median</th>\n",
              "      <th>spectral_bandwidth_min</th>\n",
              "      <th>spectral_bandwidth_max</th>\n",
              "      <th>spectral_bandwidth_delta1_mean</th>\n",
              "      <th>spectral_bandwidth_delta1_std</th>\n",
              "      <th>spectral_bandwidth_delta1_kurtosis</th>\n",
              "      <th>spectral_bandwidth_delta1_skewness</th>\n",
              "      <th>spectral_bandwidth_delta1_median</th>\n",
              "      <th>spectral_bandwidth_delta1_min</th>\n",
              "      <th>spectral_bandwidth_delta1_max</th>\n",
              "      <th>spectral_bandwidth_delta2_mean</th>\n",
              "      <th>spectral_bandwidth_delta2_std</th>\n",
              "      <th>spectral_bandwidth_delta2_kurtosis</th>\n",
              "      <th>spectral_bandwidth_delta2_skewness</th>\n",
              "      <th>spectral_bandwidth_delta2_median</th>\n",
              "      <th>...</th>\n",
              "      <th>rms_delta1_kurtosis</th>\n",
              "      <th>rms_delta1_skewness</th>\n",
              "      <th>rms_delta1_median</th>\n",
              "      <th>rms_delta1_min</th>\n",
              "      <th>rms_delta1_max</th>\n",
              "      <th>rms_delta2_mean</th>\n",
              "      <th>rms_delta2_std</th>\n",
              "      <th>rms_delta2_kurtosis</th>\n",
              "      <th>rms_delta2_skewness</th>\n",
              "      <th>rms_delta2_median</th>\n",
              "      <th>rms_delta2_min</th>\n",
              "      <th>rms_delta2_max</th>\n",
              "      <th>mfcc_mean</th>\n",
              "      <th>mfcc_std</th>\n",
              "      <th>mfcc_kurtosis</th>\n",
              "      <th>mfcc_skewness</th>\n",
              "      <th>mfcc_median</th>\n",
              "      <th>mfcc_min</th>\n",
              "      <th>mfcc_max</th>\n",
              "      <th>mfcc_delta1_mean</th>\n",
              "      <th>mfcc_delta1_std</th>\n",
              "      <th>mfcc_delta1_kurtosis</th>\n",
              "      <th>mfcc_delta1_skewness</th>\n",
              "      <th>mfcc_delta1_median</th>\n",
              "      <th>mfcc_delta1_min</th>\n",
              "      <th>mfcc_delta1_max</th>\n",
              "      <th>mfcc_delta2_mean</th>\n",
              "      <th>mfcc_delta2_std</th>\n",
              "      <th>mfcc_delta2_kurtosis</th>\n",
              "      <th>mfcc_delta2_skewness</th>\n",
              "      <th>mfcc_delta2_median</th>\n",
              "      <th>mfcc_delta2_min</th>\n",
              "      <th>mfcc_delta2_max</th>\n",
              "      <th>LPC_mean</th>\n",
              "      <th>LPC_std</th>\n",
              "      <th>LPC_kurtosis</th>\n",
              "      <th>LPC_skewness</th>\n",
              "      <th>LPC_median</th>\n",
              "      <th>LPC_min</th>\n",
              "      <th>LPC_max</th>\n",
              "    </tr>\n",
              "  </thead>\n",
              "  <tbody>\n",
              "    <tr>\n",
              "      <th>0</th>\n",
              "      <td>1459.366472</td>\n",
              "      <td>661.709451</td>\n",
              "      <td>0.841681</td>\n",
              "      <td>0.966495</td>\n",
              "      <td>1312.423565</td>\n",
              "      <td>415.633570</td>\n",
              "      <td>4499.417241</td>\n",
              "      <td>0.637114</td>\n",
              "      <td>81.736023</td>\n",
              "      <td>4.675139</td>\n",
              "      <td>0.938981</td>\n",
              "      <td>-6.190309</td>\n",
              "      <td>-259.683492</td>\n",
              "      <td>557.643613</td>\n",
              "      <td>0.024330</td>\n",
              "      <td>46.319293</td>\n",
              "      <td>4.396990</td>\n",
              "      <td>-0.544101</td>\n",
              "      <td>4.797188</td>\n",
              "      <td>-321.764147</td>\n",
              "      <td>221.536483</td>\n",
              "      <td>1389.009131</td>\n",
              "      <td>430.143278</td>\n",
              "      <td>-0.790174</td>\n",
              "      <td>0.647521</td>\n",
              "      <td>1245.152886</td>\n",
              "      <td>763.896690</td>\n",
              "      <td>2682.510435</td>\n",
              "      <td>0.209451</td>\n",
              "      <td>47.979855</td>\n",
              "      <td>1.043309</td>\n",
              "      <td>-0.135983</td>\n",
              "      <td>-0.330070</td>\n",
              "      <td>-183.963257</td>\n",
              "      <td>172.859493</td>\n",
              "      <td>0.158786</td>\n",
              "      <td>27.622576</td>\n",
              "      <td>1.208689</td>\n",
              "      <td>-0.422796</td>\n",
              "      <td>2.859325</td>\n",
              "      <td>...</td>\n",
              "      <td>2.665213</td>\n",
              "      <td>0.536220</td>\n",
              "      <td>-0.001357</td>\n",
              "      <td>-0.069095</td>\n",
              "      <td>0.070742</td>\n",
              "      <td>0.000024</td>\n",
              "      <td>0.007349</td>\n",
              "      <td>5.086851</td>\n",
              "      <td>-0.517029</td>\n",
              "      <td>0.000367</td>\n",
              "      <td>-0.051982</td>\n",
              "      <td>0.033290</td>\n",
              "      <td>-7.856247</td>\n",
              "      <td>59.767918</td>\n",
              "      <td>-0.573822</td>\n",
              "      <td>-0.192890</td>\n",
              "      <td>-6.295442</td>\n",
              "      <td>-443.449982</td>\n",
              "      <td>201.395950</td>\n",
              "      <td>0.003157</td>\n",
              "      <td>4.244223</td>\n",
              "      <td>0.753149</td>\n",
              "      <td>0.755701</td>\n",
              "      <td>-0.014800</td>\n",
              "      <td>-35.611916</td>\n",
              "      <td>61.940201</td>\n",
              "      <td>0.002818</td>\n",
              "      <td>2.340220</td>\n",
              "      <td>0.416216</td>\n",
              "      <td>-0.177388</td>\n",
              "      <td>0.008556</td>\n",
              "      <td>-29.587139</td>\n",
              "      <td>27.444580</td>\n",
              "      <td>0.000257</td>\n",
              "      <td>3.167496</td>\n",
              "      <td>0.477754</td>\n",
              "      <td>0.252205</td>\n",
              "      <td>0.119992</td>\n",
              "      <td>-5.814752</td>\n",
              "      <td>7.004394</td>\n",
              "    </tr>\n",
              "    <tr>\n",
              "      <th>1</th>\n",
              "      <td>1552.811865</td>\n",
              "      <td>395.559911</td>\n",
              "      <td>11.603143</td>\n",
              "      <td>1.927469</td>\n",
              "      <td>1510.972589</td>\n",
              "      <td>417.254802</td>\n",
              "      <td>4669.770713</td>\n",
              "      <td>0.341307</td>\n",
              "      <td>68.457817</td>\n",
              "      <td>8.657651</td>\n",
              "      <td>-0.177911</td>\n",
              "      <td>-2.044817</td>\n",
              "      <td>-482.515840</td>\n",
              "      <td>413.034054</td>\n",
              "      <td>0.018451</td>\n",
              "      <td>39.079206</td>\n",
              "      <td>10.091214</td>\n",
              "      <td>-0.989551</td>\n",
              "      <td>0.481424</td>\n",
              "      <td>-359.250830</td>\n",
              "      <td>182.149399</td>\n",
              "      <td>1747.702312</td>\n",
              "      <td>276.141616</td>\n",
              "      <td>0.071457</td>\n",
              "      <td>0.017533</td>\n",
              "      <td>1741.173116</td>\n",
              "      <td>960.211956</td>\n",
              "      <td>2662.739385</td>\n",
              "      <td>0.431479</td>\n",
              "      <td>49.357886</td>\n",
              "      <td>-0.236268</td>\n",
              "      <td>-0.029415</td>\n",
              "      <td>-0.261212</td>\n",
              "      <td>-151.377924</td>\n",
              "      <td>149.766938</td>\n",
              "      <td>0.092237</td>\n",
              "      <td>30.548318</td>\n",
              "      <td>-0.356420</td>\n",
              "      <td>-0.060871</td>\n",
              "      <td>0.956199</td>\n",
              "      <td>...</td>\n",
              "      <td>-0.447615</td>\n",
              "      <td>-0.071674</td>\n",
              "      <td>0.000550</td>\n",
              "      <td>-0.032720</td>\n",
              "      <td>0.031167</td>\n",
              "      <td>0.000028</td>\n",
              "      <td>0.006142</td>\n",
              "      <td>-0.013974</td>\n",
              "      <td>-0.166670</td>\n",
              "      <td>0.000172</td>\n",
              "      <td>-0.024213</td>\n",
              "      <td>0.019053</td>\n",
              "      <td>1.034164</td>\n",
              "      <td>43.077038</td>\n",
              "      <td>0.500346</td>\n",
              "      <td>-0.577687</td>\n",
              "      <td>-3.161015</td>\n",
              "      <td>-343.934814</td>\n",
              "      <td>198.838501</td>\n",
              "      <td>0.000070</td>\n",
              "      <td>3.274759</td>\n",
              "      <td>-0.185535</td>\n",
              "      <td>0.053240</td>\n",
              "      <td>0.011495</td>\n",
              "      <td>-34.185745</td>\n",
              "      <td>39.863064</td>\n",
              "      <td>-0.000213</td>\n",
              "      <td>2.004048</td>\n",
              "      <td>0.270294</td>\n",
              "      <td>0.053689</td>\n",
              "      <td>0.001813</td>\n",
              "      <td>-24.621988</td>\n",
              "      <td>24.823193</td>\n",
              "      <td>0.000194</td>\n",
              "      <td>4.738595</td>\n",
              "      <td>-0.091538</td>\n",
              "      <td>-0.206327</td>\n",
              "      <td>0.134157</td>\n",
              "      <td>-9.608500</td>\n",
              "      <td>8.883484</td>\n",
              "    </tr>\n",
              "    <tr>\n",
              "      <th>2</th>\n",
              "      <td>1835.004266</td>\n",
              "      <td>586.003361</td>\n",
              "      <td>1.535905</td>\n",
              "      <td>1.050190</td>\n",
              "      <td>1732.517594</td>\n",
              "      <td>849.658285</td>\n",
              "      <td>4464.156642</td>\n",
              "      <td>-0.214389</td>\n",
              "      <td>68.072488</td>\n",
              "      <td>0.329900</td>\n",
              "      <td>0.430382</td>\n",
              "      <td>-3.857220</td>\n",
              "      <td>-197.758805</td>\n",
              "      <td>235.302721</td>\n",
              "      <td>-0.282490</td>\n",
              "      <td>44.159677</td>\n",
              "      <td>0.291734</td>\n",
              "      <td>-0.134831</td>\n",
              "      <td>1.292480</td>\n",
              "      <td>-151.569984</td>\n",
              "      <td>130.421292</td>\n",
              "      <td>1748.172116</td>\n",
              "      <td>297.397392</td>\n",
              "      <td>-0.284144</td>\n",
              "      <td>0.340901</td>\n",
              "      <td>1737.639906</td>\n",
              "      <td>1081.656537</td>\n",
              "      <td>2770.695509</td>\n",
              "      <td>0.091363</td>\n",
              "      <td>34.881861</td>\n",
              "      <td>0.038399</td>\n",
              "      <td>-0.017917</td>\n",
              "      <td>-0.559164</td>\n",
              "      <td>-128.846344</td>\n",
              "      <td>97.525389</td>\n",
              "      <td>-0.072185</td>\n",
              "      <td>23.628324</td>\n",
              "      <td>0.168883</td>\n",
              "      <td>-0.128740</td>\n",
              "      <td>0.675958</td>\n",
              "      <td>...</td>\n",
              "      <td>1.094863</td>\n",
              "      <td>0.393583</td>\n",
              "      <td>-0.000821</td>\n",
              "      <td>-0.027520</td>\n",
              "      <td>0.036711</td>\n",
              "      <td>-0.000027</td>\n",
              "      <td>0.003921</td>\n",
              "      <td>1.608814</td>\n",
              "      <td>-0.446032</td>\n",
              "      <td>0.000190</td>\n",
              "      <td>-0.017889</td>\n",
              "      <td>0.012219</td>\n",
              "      <td>-8.458840</td>\n",
              "      <td>51.298744</td>\n",
              "      <td>-0.526156</td>\n",
              "      <td>-0.311698</td>\n",
              "      <td>-6.868770</td>\n",
              "      <td>-356.302917</td>\n",
              "      <td>188.284668</td>\n",
              "      <td>0.006732</td>\n",
              "      <td>3.458114</td>\n",
              "      <td>-0.469113</td>\n",
              "      <td>0.117897</td>\n",
              "      <td>0.004508</td>\n",
              "      <td>-33.172958</td>\n",
              "      <td>39.574139</td>\n",
              "      <td>-0.002041</td>\n",
              "      <td>1.932273</td>\n",
              "      <td>0.152121</td>\n",
              "      <td>-0.266320</td>\n",
              "      <td>0.001380</td>\n",
              "      <td>-22.671379</td>\n",
              "      <td>21.499109</td>\n",
              "      <td>0.000404</td>\n",
              "      <td>8.849210</td>\n",
              "      <td>-0.549701</td>\n",
              "      <td>-0.153309</td>\n",
              "      <td>-0.137374</td>\n",
              "      <td>-17.529226</td>\n",
              "      <td>13.330379</td>\n",
              "    </tr>\n",
              "    <tr>\n",
              "      <th>3</th>\n",
              "      <td>1831.993940</td>\n",
              "      <td>1015.126775</td>\n",
              "      <td>0.890008</td>\n",
              "      <td>1.272868</td>\n",
              "      <td>1471.018339</td>\n",
              "      <td>645.881662</td>\n",
              "      <td>5399.377714</td>\n",
              "      <td>0.426899</td>\n",
              "      <td>107.962351</td>\n",
              "      <td>4.090815</td>\n",
              "      <td>0.105436</td>\n",
              "      <td>-5.166355</td>\n",
              "      <td>-572.086520</td>\n",
              "      <td>570.335862</td>\n",
              "      <td>-0.056108</td>\n",
              "      <td>58.068683</td>\n",
              "      <td>2.139839</td>\n",
              "      <td>-0.543998</td>\n",
              "      <td>4.282486</td>\n",
              "      <td>-290.870516</td>\n",
              "      <td>229.813951</td>\n",
              "      <td>1729.653287</td>\n",
              "      <td>449.344532</td>\n",
              "      <td>-1.072683</td>\n",
              "      <td>0.178820</td>\n",
              "      <td>1695.965514</td>\n",
              "      <td>940.593017</td>\n",
              "      <td>2827.733353</td>\n",
              "      <td>-0.045605</td>\n",
              "      <td>56.352033</td>\n",
              "      <td>0.108411</td>\n",
              "      <td>0.051005</td>\n",
              "      <td>-2.315556</td>\n",
              "      <td>-197.565059</td>\n",
              "      <td>160.343570</td>\n",
              "      <td>-0.020121</td>\n",
              "      <td>32.187028</td>\n",
              "      <td>0.428083</td>\n",
              "      <td>-0.362141</td>\n",
              "      <td>2.632657</td>\n",
              "      <td>...</td>\n",
              "      <td>7.424725</td>\n",
              "      <td>0.784603</td>\n",
              "      <td>-0.000644</td>\n",
              "      <td>-0.055123</td>\n",
              "      <td>0.063957</td>\n",
              "      <td>0.000020</td>\n",
              "      <td>0.004886</td>\n",
              "      <td>6.603911</td>\n",
              "      <td>-0.170253</td>\n",
              "      <td>0.000115</td>\n",
              "      <td>-0.024597</td>\n",
              "      <td>0.026737</td>\n",
              "      <td>-7.099053</td>\n",
              "      <td>55.202843</td>\n",
              "      <td>-0.156458</td>\n",
              "      <td>-0.418035</td>\n",
              "      <td>-5.271656</td>\n",
              "      <td>-451.742767</td>\n",
              "      <td>194.460266</td>\n",
              "      <td>0.005214</td>\n",
              "      <td>3.875076</td>\n",
              "      <td>1.175011</td>\n",
              "      <td>0.867217</td>\n",
              "      <td>-0.023272</td>\n",
              "      <td>-33.516430</td>\n",
              "      <td>66.347992</td>\n",
              "      <td>0.003392</td>\n",
              "      <td>2.127665</td>\n",
              "      <td>0.804901</td>\n",
              "      <td>-0.195760</td>\n",
              "      <td>0.011245</td>\n",
              "      <td>-26.828115</td>\n",
              "      <td>27.473246</td>\n",
              "      <td>-0.000663</td>\n",
              "      <td>29.449717</td>\n",
              "      <td>-1.052057</td>\n",
              "      <td>0.187380</td>\n",
              "      <td>-2.980688</td>\n",
              "      <td>-44.937874</td>\n",
              "      <td>47.398655</td>\n",
              "    </tr>\n",
              "    <tr>\n",
              "      <th>4</th>\n",
              "      <td>1451.667066</td>\n",
              "      <td>670.498443</td>\n",
              "      <td>1.379991</td>\n",
              "      <td>1.197250</td>\n",
              "      <td>1295.280201</td>\n",
              "      <td>540.133477</td>\n",
              "      <td>4625.431451</td>\n",
              "      <td>-0.617969</td>\n",
              "      <td>68.123245</td>\n",
              "      <td>2.887162</td>\n",
              "      <td>0.072218</td>\n",
              "      <td>-3.556383</td>\n",
              "      <td>-321.068353</td>\n",
              "      <td>286.932199</td>\n",
              "      <td>-0.090716</td>\n",
              "      <td>41.904498</td>\n",
              "      <td>5.628362</td>\n",
              "      <td>-0.344055</td>\n",
              "      <td>1.562003</td>\n",
              "      <td>-279.895912</td>\n",
              "      <td>217.037894</td>\n",
              "      <td>1577.270941</td>\n",
              "      <td>410.136488</td>\n",
              "      <td>-0.938447</td>\n",
              "      <td>0.076742</td>\n",
              "      <td>1608.505546</td>\n",
              "      <td>794.073190</td>\n",
              "      <td>2744.393863</td>\n",
              "      <td>-0.731761</td>\n",
              "      <td>47.647918</td>\n",
              "      <td>0.466731</td>\n",
              "      <td>0.338505</td>\n",
              "      <td>-3.603228</td>\n",
              "      <td>-128.615904</td>\n",
              "      <td>170.031321</td>\n",
              "      <td>-0.004892</td>\n",
              "      <td>30.344732</td>\n",
              "      <td>0.794148</td>\n",
              "      <td>-0.313922</td>\n",
              "      <td>1.001719</td>\n",
              "      <td>...</td>\n",
              "      <td>2.565038</td>\n",
              "      <td>0.837543</td>\n",
              "      <td>-0.000721</td>\n",
              "      <td>-0.045054</td>\n",
              "      <td>0.055055</td>\n",
              "      <td>-0.000048</td>\n",
              "      <td>0.006180</td>\n",
              "      <td>2.014225</td>\n",
              "      <td>-0.171516</td>\n",
              "      <td>0.000237</td>\n",
              "      <td>-0.025862</td>\n",
              "      <td>0.024715</td>\n",
              "      <td>-5.961263</td>\n",
              "      <td>57.036411</td>\n",
              "      <td>-0.224637</td>\n",
              "      <td>-0.023226</td>\n",
              "      <td>-6.441982</td>\n",
              "      <td>-413.145874</td>\n",
              "      <td>211.605225</td>\n",
              "      <td>0.003429</td>\n",
              "      <td>3.539560</td>\n",
              "      <td>0.867173</td>\n",
              "      <td>0.630095</td>\n",
              "      <td>0.008190</td>\n",
              "      <td>-30.188179</td>\n",
              "      <td>53.281082</td>\n",
              "      <td>0.000330</td>\n",
              "      <td>2.034518</td>\n",
              "      <td>0.807855</td>\n",
              "      <td>-0.019555</td>\n",
              "      <td>0.004078</td>\n",
              "      <td>-25.910381</td>\n",
              "      <td>27.182009</td>\n",
              "      <td>0.000201</td>\n",
              "      <td>5.135298</td>\n",
              "      <td>-0.030357</td>\n",
              "      <td>-0.124329</td>\n",
              "      <td>0.416601</td>\n",
              "      <td>-10.593861</td>\n",
              "      <td>9.370218</td>\n",
              "    </tr>\n",
              "  </tbody>\n",
              "</table>\n",
              "<p>5 rows × 196 columns</p>\n",
              "</div>"
            ],
            "text/plain": [
              "   spectral_centroid_mean  spectral_centroid_std  ...    LPC_min    LPC_max\n",
              "0             1459.366472             661.709451  ...  -5.814752   7.004394\n",
              "1             1552.811865             395.559911  ...  -9.608500   8.883484\n",
              "2             1835.004266             586.003361  ... -17.529226  13.330379\n",
              "3             1831.993940            1015.126775  ... -44.937874  47.398655\n",
              "4             1451.667066             670.498443  ... -10.593861   9.370218\n",
              "\n",
              "[5 rows x 196 columns]"
            ]
          },
          "metadata": {
            "tags": []
          },
          "execution_count": 5
        }
      ]
    },
    {
      "cell_type": "code",
      "metadata": {
        "id": "SpYSXbLAnM9c"
      },
      "source": [
        "full_df = df.copy()"
      ],
      "execution_count": null,
      "outputs": []
    },
    {
      "cell_type": "code",
      "metadata": {
        "id": "EX1kqbBz0hD4"
      },
      "source": [
        "from sklearn.tree import DecisionTreeClassifier\n",
        "from sklearn.ensemble import RandomForestClassifier, AdaBoostClassifier\n",
        "from sklearn.linear_model import LogisticRegression\n",
        "from sklearn.neighbors import KNeighborsClassifier\n",
        "from sklearn.svm import SVC\n",
        "from sklearn.neural_network import MLPClassifier"
      ],
      "execution_count": 200,
      "outputs": []
    },
    {
      "cell_type": "code",
      "metadata": {
        "id": "D7p1rhU2yQF5"
      },
      "source": [
        "class ModelSelection():\n",
        "    all_models = []\n",
        "    def __init__(self, df, k, random_forest=True, logistic_reg=True, adaboost=True, decision_tree=True,\n",
        "                 knn=True, svm=True, naive_bayes=True, mlp=True):\n",
        "\n",
        "        self.df = df\n",
        "        self.k = k\n",
        "        self.random_forest = random_forest\n",
        "        self.logistic_reg = logistic_reg\n",
        "        self.adaboost = adaboost\n",
        "        self.decision_tree = decision_tree\n",
        "        self.knn = knn\n",
        "        self.svm = svm\n",
        "        self.naive_bayes = naive_bayes\n",
        "        self.mlp = mlp\n",
        "\n",
        "    def create_models(self):\n",
        "        if self.random_forest:\n",
        "            self.all_models.append(RandomForestClassifier(n_estimators=100, max_depth=10, max_features=0.6, min_samples_split=2))\n",
        "            self.all_models.append(RandomForestClassifier(n_estimators=100, max_depth=20, max_features=0.6, min_samples_split=2))\n",
        "            self.all_models.append(RandomForestClassifier(n_estimators=100, max_depth=10, max_features='sqrt', min_samples_split=2))\n",
        "            self.all_models.append(RandomForestClassifier(n_estimators=100, max_depth=20, max_features='sqrt', min_samples_split=2))\n",
        "            self.all_models.append(RandomForestClassifier(n_estimators=100, max_depth=50, max_features='auto', min_samples_split=2))\n",
        "        if self.logistic_reg:\n",
        "            self.all_models.append(LogisticRegression(C=10, max_iter=500, n_jobs=-1))\n",
        "            self.all_models.append(LogisticRegression(C=1, max_iter=500, n_jobs=-1))\n",
        "            self.all_models.append(LogisticRegression(C=0.1, max_iter=500, n_jobs=-1))\n",
        "            self.all_models.append(LogisticRegression(C=0.01, max_iter=500, n_jobs=-1))\n",
        "            self.all_models.append(LogisticRegression(C=0.001, max_iter=500, n_jobs=-1))\n",
        "        if self.adaboost:\n",
        "            self.all_models.append(AdaBoostClassifier(n_estimators=100, learning_rate=1, algorithm='SAMME.R'))\n",
        "            self.all_models.append(AdaBoostClassifier(n_estimators=100, learning_rate=0.1, algorithm='SAMME.R'))\n",
        "            self.all_models.append(AdaBoostClassifier(n_estimators=100, learning_rate=0.01, algorithm='SAMME.R'))\n",
        "            self.all_models.append(AdaBoostClassifier(n_estimators=100, learning_rate=0.1, algorithm='SAMME'))\n",
        "            self.all_models.append(AdaBoostClassifier(n_estimators=100, learning_rate=0.01, algorithm='SAMME'))\n",
        "        if self.decision_tree:\n",
        "            self.all_models.append(DecisionTreeClassifier(criterion='gini', max_depth=10))\n",
        "            self.all_models.append(DecisionTreeClassifier(criterion='gini', max_depth=30))\n",
        "            self.all_models.append(DecisionTreeClassifier(criterion='entropy', max_depth=10))\n",
        "            self.all_models.append(DecisionTreeClassifier(criterion='entropy', max_depth=30))\n",
        "            self.all_models.append(DecisionTreeClassifier(criterion='gini', max_depth=50))\n",
        "        if self.knn:\n",
        "            self.all_models.append(KNeighborsClassifier(n_neighbors=1, weights='uniform'))\n",
        "            self.all_models.append(KNeighborsClassifier(n_neighbors=1, weights='distance'))\n",
        "            self.all_models.append(KNeighborsClassifier(n_neighbors=2, weights='distance'))\n",
        "            self.all_models.append(KNeighborsClassifier(n_neighbors=3, weights='uniform'))\n",
        "            self.all_models.append(KNeighborsClassifier(n_neighbors=3, weights='distance'))\n",
        "        if self.svm:\n",
        "            self.all_models.append(SVC(kernel='linear'))\n",
        "            self.all_models.append(SVC(kernel='poly', degree=3, C=1))\n",
        "            self.all_models.append(SVC(kernel='poly', degree=4, C=1))\n",
        "            self.all_models.append(SVC(kernel='poly', degree=5, C=1))\n",
        "            self.all_models.append(SVC(kernel='poly', degree=5, C=0.1))\n",
        "        if self.mlp:\n",
        "            self.all_models.append(MLPClassifier(hidden_layer_sizes=(100,100), solver='adam', learning_rate_init=0.001, max_iter=500, early_stopping=True))\n",
        "            self.all_models.append(MLPClassifier(hidden_layer_sizes=(256,256), solver='adam', learning_rate_init=0.001, max_iter=500, early_stopping=True))\n",
        "            self.all_models.append(MLPClassifier(hidden_layer_sizes=(100,100), solver='lbfgs', learning_rate_init=0.001, max_iter=500, early_stopping=True))\n",
        "            self.all_models.append(MLPClassifier(hidden_layer_sizes=(256,256), solver='lbfgs', learning_rate_init=0.001, max_iter=500, early_stopping=True))\n",
        "            self.all_models.append(MLPClassifier(hidden_layer_sizes=(100,100), solver='lbfgs', learning_rate_init=1e-4, max_iter=500, early_stopping=True))\n",
        "\n",
        "    def apply_models(self):\n",
        "        self.all_models.clear()\n",
        "        self.create_models()\n",
        "        X = self.df.drop('genre',axis=1).values\n",
        "        y = self.df['genre'].values\n",
        "        scaler = StandardScaler()\n",
        "        X = scaler.fit_transform(X)\n",
        "        scores = []\n",
        "        for i in tqdm(self.all_models):\n",
        "            print(\"\\n{} ------> Cross Validation Score : {}\".format(i,cross_val_score(i,X,y,scoring='accuracy').mean()))\n",
        "            scores.append(\"\\n{} ------> Cross Validation Score : {}\".format(i,cross_val_score(i,X,y,scoring='accuracy').mean()))\n",
        "        return scores"
      ],
      "execution_count": 227,
      "outputs": []
    },
    {
      "cell_type": "code",
      "metadata": {
        "id": "bzRYYUCgAZXX"
      },
      "source": [
        "from sklearn.model_selection import KFold\n",
        "selector = ModelSelection(df, 5, naive_bayes=False)"
      ],
      "execution_count": 228,
      "outputs": []
    },
    {
      "cell_type": "code",
      "metadata": {
        "colab": {
          "base_uri": "https://localhost:8080/"
        },
        "id": "V8quOEK33udQ",
        "outputId": "8496c1f9-29d8-4d23-c891-96c2e2503309"
      },
      "source": [
        "KFold(n_splits=5)"
      ],
      "execution_count": 229,
      "outputs": [
        {
          "output_type": "execute_result",
          "data": {
            "text/plain": [
              "KFold(n_splits=5, random_state=None, shuffle=False)"
            ]
          },
          "metadata": {
            "tags": []
          },
          "execution_count": 229
        }
      ]
    },
    {
      "cell_type": "code",
      "metadata": {
        "colab": {
          "base_uri": "https://localhost:8080/"
        },
        "id": "p8fvE0ZB0UUl",
        "outputId": "927b90bc-0bb3-457f-e34d-d32819117d11"
      },
      "source": [
        "selector = ModelSelection(df, 5, naive_bayes=False)\n",
        "scores = selector.apply_models()"
      ],
      "execution_count": 230,
      "outputs": [
        {
          "output_type": "stream",
          "text": [
            "\n",
            "\n",
            "  0%|          | 0/35 [00:00<?, ?it/s]\u001b[A\u001b[A"
          ],
          "name": "stderr"
        },
        {
          "output_type": "stream",
          "text": [
            "\n",
            "RandomForestClassifier(bootstrap=True, ccp_alpha=0.0, class_weight=None,\n",
            "                       criterion='gini', max_depth=10, max_features=0.6,\n",
            "                       max_leaf_nodes=None, max_samples=None,\n",
            "                       min_impurity_decrease=0.0, min_impurity_split=None,\n",
            "                       min_samples_leaf=1, min_samples_split=2,\n",
            "                       min_weight_fraction_leaf=0.0, n_estimators=100,\n",
            "                       n_jobs=None, oob_score=False, random_state=None,\n",
            "                       verbose=0, warm_start=False) ------> Cross Validation Score : 0.576\n"
          ],
          "name": "stdout"
        },
        {
          "output_type": "stream",
          "text": [
            "\n",
            "\n",
            "  3%|▎         | 1/35 [00:52<29:49, 52.64s/it]\u001b[A\u001b[A"
          ],
          "name": "stderr"
        },
        {
          "output_type": "stream",
          "text": [
            "\n",
            "RandomForestClassifier(bootstrap=True, ccp_alpha=0.0, class_weight=None,\n",
            "                       criterion='gini', max_depth=20, max_features=0.6,\n",
            "                       max_leaf_nodes=None, max_samples=None,\n",
            "                       min_impurity_decrease=0.0, min_impurity_split=None,\n",
            "                       min_samples_leaf=1, min_samples_split=2,\n",
            "                       min_weight_fraction_leaf=0.0, n_estimators=100,\n",
            "                       n_jobs=None, oob_score=False, random_state=None,\n",
            "                       verbose=0, warm_start=False) ------> Cross Validation Score : 0.576\n"
          ],
          "name": "stdout"
        },
        {
          "output_type": "stream",
          "text": [
            "\n",
            "\n",
            "  6%|▌         | 2/35 [01:47<29:15, 53.18s/it]\u001b[A\u001b[A"
          ],
          "name": "stderr"
        },
        {
          "output_type": "stream",
          "text": [
            "\n",
            "RandomForestClassifier(bootstrap=True, ccp_alpha=0.0, class_weight=None,\n",
            "                       criterion='gini', max_depth=10, max_features='sqrt',\n",
            "                       max_leaf_nodes=None, max_samples=None,\n",
            "                       min_impurity_decrease=0.0, min_impurity_split=None,\n",
            "                       min_samples_leaf=1, min_samples_split=2,\n",
            "                       min_weight_fraction_leaf=0.0, n_estimators=100,\n",
            "                       n_jobs=None, oob_score=False, random_state=None,\n",
            "                       verbose=0, warm_start=False) ------> Cross Validation Score : 0.5569999999999999\n"
          ],
          "name": "stdout"
        },
        {
          "output_type": "stream",
          "text": [
            "\n",
            "\n",
            "  9%|▊         | 3/35 [01:55<21:15, 39.85s/it]\u001b[A\u001b[A"
          ],
          "name": "stderr"
        },
        {
          "output_type": "stream",
          "text": [
            "\n",
            "RandomForestClassifier(bootstrap=True, ccp_alpha=0.0, class_weight=None,\n",
            "                       criterion='gini', max_depth=20, max_features='sqrt',\n",
            "                       max_leaf_nodes=None, max_samples=None,\n",
            "                       min_impurity_decrease=0.0, min_impurity_split=None,\n",
            "                       min_samples_leaf=1, min_samples_split=2,\n",
            "                       min_weight_fraction_leaf=0.0, n_estimators=100,\n",
            "                       n_jobs=None, oob_score=False, random_state=None,\n",
            "                       verbose=0, warm_start=False) ------> Cross Validation Score : 0.567\n"
          ],
          "name": "stdout"
        },
        {
          "output_type": "stream",
          "text": [
            "\n",
            "\n",
            " 11%|█▏        | 4/35 [02:05<15:50, 30.68s/it]\u001b[A\u001b[A"
          ],
          "name": "stderr"
        },
        {
          "output_type": "stream",
          "text": [
            "\n",
            "RandomForestClassifier(bootstrap=True, ccp_alpha=0.0, class_weight=None,\n",
            "                       criterion='gini', max_depth=50, max_features='auto',\n",
            "                       max_leaf_nodes=None, max_samples=None,\n",
            "                       min_impurity_decrease=0.0, min_impurity_split=None,\n",
            "                       min_samples_leaf=1, min_samples_split=2,\n",
            "                       min_weight_fraction_leaf=0.0, n_estimators=100,\n",
            "                       n_jobs=None, oob_score=False, random_state=None,\n",
            "                       verbose=0, warm_start=False) ------> Cross Validation Score : 0.567\n"
          ],
          "name": "stdout"
        },
        {
          "output_type": "stream",
          "text": [
            "\n",
            "\n",
            " 14%|█▍        | 5/35 [02:14<12:06, 24.23s/it]\u001b[A\u001b[A"
          ],
          "name": "stderr"
        },
        {
          "output_type": "stream",
          "text": [
            "\n",
            "LogisticRegression(C=10, class_weight=None, dual=False, fit_intercept=True,\n",
            "                   intercept_scaling=1, l1_ratio=None, max_iter=500,\n",
            "                   multi_class='auto', n_jobs=-1, penalty='l2',\n",
            "                   random_state=None, solver='lbfgs', tol=0.0001, verbose=0,\n",
            "                   warm_start=False) ------> Cross Validation Score : 0.649\n"
          ],
          "name": "stdout"
        },
        {
          "output_type": "stream",
          "text": [
            "\n",
            "\n",
            " 17%|█▋        | 6/35 [02:26<10:01, 20.75s/it]\u001b[A\u001b[A"
          ],
          "name": "stderr"
        },
        {
          "output_type": "stream",
          "text": [
            "\n",
            "LogisticRegression(C=1, class_weight=None, dual=False, fit_intercept=True,\n",
            "                   intercept_scaling=1, l1_ratio=None, max_iter=500,\n",
            "                   multi_class='auto', n_jobs=-1, penalty='l2',\n",
            "                   random_state=None, solver='lbfgs', tol=0.0001, verbose=0,\n",
            "                   warm_start=False) ------> Cross Validation Score : 0.655\n"
          ],
          "name": "stdout"
        },
        {
          "output_type": "stream",
          "text": [
            "\n",
            "\n",
            " 20%|██        | 7/35 [02:36<08:05, 17.36s/it]\u001b[A\u001b[A"
          ],
          "name": "stderr"
        },
        {
          "output_type": "stream",
          "text": [
            "\n",
            "LogisticRegression(C=0.1, class_weight=None, dual=False, fit_intercept=True,\n",
            "                   intercept_scaling=1, l1_ratio=None, max_iter=500,\n",
            "                   multi_class='auto', n_jobs=-1, penalty='l2',\n",
            "                   random_state=None, solver='lbfgs', tol=0.0001, verbose=0,\n",
            "                   warm_start=False) ------> Cross Validation Score : 0.6519999999999999\n"
          ],
          "name": "stdout"
        },
        {
          "output_type": "stream",
          "text": [
            "\n",
            "\n",
            " 23%|██▎       | 8/35 [02:41<06:13, 13.84s/it]\u001b[A\u001b[A"
          ],
          "name": "stderr"
        },
        {
          "output_type": "stream",
          "text": [
            "\n",
            "LogisticRegression(C=0.01, class_weight=None, dual=False, fit_intercept=True,\n",
            "                   intercept_scaling=1, l1_ratio=None, max_iter=500,\n",
            "                   multi_class='auto', n_jobs=-1, penalty='l2',\n",
            "                   random_state=None, solver='lbfgs', tol=0.0001, verbose=0,\n",
            "                   warm_start=False) ------> Cross Validation Score : 0.597\n"
          ],
          "name": "stdout"
        },
        {
          "output_type": "stream",
          "text": [
            "\n",
            "\n",
            " 26%|██▌       | 9/35 [02:45<04:40, 10.78s/it]\u001b[A\u001b[A"
          ],
          "name": "stderr"
        },
        {
          "output_type": "stream",
          "text": [
            "\n",
            "LogisticRegression(C=0.001, class_weight=None, dual=False, fit_intercept=True,\n",
            "                   intercept_scaling=1, l1_ratio=None, max_iter=500,\n",
            "                   multi_class='auto', n_jobs=-1, penalty='l2',\n",
            "                   random_state=None, solver='lbfgs', tol=0.0001, verbose=0,\n",
            "                   warm_start=False) ------> Cross Validation Score : 0.542\n"
          ],
          "name": "stdout"
        },
        {
          "output_type": "stream",
          "text": [
            "\n",
            "\n",
            " 29%|██▊       | 10/35 [02:48<03:28,  8.35s/it]\u001b[A\u001b[A"
          ],
          "name": "stderr"
        },
        {
          "output_type": "stream",
          "text": [
            "\n",
            "AdaBoostClassifier(algorithm='SAMME.R', base_estimator=None, learning_rate=1,\n",
            "                   n_estimators=100, random_state=None) ------> Cross Validation Score : 0.23500000000000001\n"
          ],
          "name": "stdout"
        },
        {
          "output_type": "stream",
          "text": [
            "\n",
            "\n",
            " 31%|███▏      | 11/35 [03:12<05:15, 13.15s/it]\u001b[A\u001b[A"
          ],
          "name": "stderr"
        },
        {
          "output_type": "stream",
          "text": [
            "\n",
            "AdaBoostClassifier(algorithm='SAMME.R', base_estimator=None, learning_rate=0.1,\n",
            "                   n_estimators=100, random_state=None) ------> Cross Validation Score : 0.28300000000000003\n"
          ],
          "name": "stdout"
        },
        {
          "output_type": "stream",
          "text": [
            "\n",
            "\n",
            " 34%|███▍      | 12/35 [03:37<06:20, 16.56s/it]\u001b[A\u001b[A"
          ],
          "name": "stderr"
        },
        {
          "output_type": "stream",
          "text": [
            "\n",
            "AdaBoostClassifier(algorithm='SAMME.R', base_estimator=None, learning_rate=0.01,\n",
            "                   n_estimators=100, random_state=None) ------> Cross Validation Score : 0.344\n"
          ],
          "name": "stdout"
        },
        {
          "output_type": "stream",
          "text": [
            "\n",
            "\n",
            " 37%|███▋      | 13/35 [04:01<06:54, 18.86s/it]\u001b[A\u001b[A"
          ],
          "name": "stderr"
        },
        {
          "output_type": "stream",
          "text": [
            "\n",
            "AdaBoostClassifier(algorithm='SAMME', base_estimator=None, learning_rate=0.1,\n",
            "                   n_estimators=100, random_state=None) ------> Cross Validation Score : 0.40800000000000003\n"
          ],
          "name": "stdout"
        },
        {
          "output_type": "stream",
          "text": [
            "\n",
            "\n",
            " 40%|████      | 14/35 [04:24<07:04, 20.20s/it]\u001b[A\u001b[A"
          ],
          "name": "stderr"
        },
        {
          "output_type": "stream",
          "text": [
            "\n",
            "AdaBoostClassifier(algorithm='SAMME', base_estimator=None, learning_rate=0.01,\n",
            "                   n_estimators=100, random_state=None) ------> Cross Validation Score : 0.252\n"
          ],
          "name": "stdout"
        },
        {
          "output_type": "stream",
          "text": [
            "\n",
            "\n",
            " 43%|████▎     | 15/35 [04:47<07:01, 21.10s/it]\u001b[A\u001b[A"
          ],
          "name": "stderr"
        },
        {
          "output_type": "stream",
          "text": [
            "\n",
            "DecisionTreeClassifier(ccp_alpha=0.0, class_weight=None, criterion='gini',\n",
            "                       max_depth=10, max_features=None, max_leaf_nodes=None,\n",
            "                       min_impurity_decrease=0.0, min_impurity_split=None,\n",
            "                       min_samples_leaf=1, min_samples_split=2,\n",
            "                       min_weight_fraction_leaf=0.0, presort='deprecated',\n",
            "                       random_state=None, splitter='best') ------> Cross Validation Score : 0.45\n"
          ],
          "name": "stdout"
        },
        {
          "output_type": "stream",
          "text": [
            "\n",
            "\n",
            " 46%|████▌     | 16/35 [04:49<04:49, 15.21s/it]\u001b[A\u001b[A"
          ],
          "name": "stderr"
        },
        {
          "output_type": "stream",
          "text": [
            "\n",
            "DecisionTreeClassifier(ccp_alpha=0.0, class_weight=None, criterion='gini',\n",
            "                       max_depth=30, max_features=None, max_leaf_nodes=None,\n",
            "                       min_impurity_decrease=0.0, min_impurity_split=None,\n",
            "                       min_samples_leaf=1, min_samples_split=2,\n",
            "                       min_weight_fraction_leaf=0.0, presort='deprecated',\n",
            "                       random_state=None, splitter='best') ------> Cross Validation Score : 0.454\n"
          ],
          "name": "stdout"
        },
        {
          "output_type": "stream",
          "text": [
            "\n",
            "\n",
            " 49%|████▊     | 17/35 [04:50<03:19, 11.10s/it]\u001b[A\u001b[A"
          ],
          "name": "stderr"
        },
        {
          "output_type": "stream",
          "text": [
            "\n",
            "DecisionTreeClassifier(ccp_alpha=0.0, class_weight=None, criterion='entropy',\n",
            "                       max_depth=10, max_features=None, max_leaf_nodes=None,\n",
            "                       min_impurity_decrease=0.0, min_impurity_split=None,\n",
            "                       min_samples_leaf=1, min_samples_split=2,\n",
            "                       min_weight_fraction_leaf=0.0, presort='deprecated',\n",
            "                       random_state=None, splitter='best') ------> Cross Validation Score : 0.449\n"
          ],
          "name": "stdout"
        },
        {
          "output_type": "stream",
          "text": [
            "\n",
            "\n",
            " 51%|█████▏    | 18/35 [04:55<02:37,  9.28s/it]\u001b[A\u001b[A"
          ],
          "name": "stderr"
        },
        {
          "output_type": "stream",
          "text": [
            "\n",
            "DecisionTreeClassifier(ccp_alpha=0.0, class_weight=None, criterion='entropy',\n",
            "                       max_depth=30, max_features=None, max_leaf_nodes=None,\n",
            "                       min_impurity_decrease=0.0, min_impurity_split=None,\n",
            "                       min_samples_leaf=1, min_samples_split=2,\n",
            "                       min_weight_fraction_leaf=0.0, presort='deprecated',\n",
            "                       random_state=None, splitter='best') ------> Cross Validation Score : 0.446\n"
          ],
          "name": "stdout"
        },
        {
          "output_type": "stream",
          "text": [
            "\n",
            "\n",
            " 54%|█████▍    | 19/35 [05:00<02:08,  8.01s/it]\u001b[A\u001b[A"
          ],
          "name": "stderr"
        },
        {
          "output_type": "stream",
          "text": [
            "\n",
            "DecisionTreeClassifier(ccp_alpha=0.0, class_weight=None, criterion='gini',\n",
            "                       max_depth=50, max_features=None, max_leaf_nodes=None,\n",
            "                       min_impurity_decrease=0.0, min_impurity_split=None,\n",
            "                       min_samples_leaf=1, min_samples_split=2,\n",
            "                       min_weight_fraction_leaf=0.0, presort='deprecated',\n",
            "                       random_state=None, splitter='best') ------> Cross Validation Score : 0.45500000000000007\n"
          ],
          "name": "stdout"
        },
        {
          "output_type": "stream",
          "text": [
            "\n",
            "\n",
            " 57%|█████▋    | 20/35 [05:02<01:30,  6.06s/it]\u001b[A\u001b[A"
          ],
          "name": "stderr"
        },
        {
          "output_type": "stream",
          "text": [
            "\n",
            "KNeighborsClassifier(algorithm='auto', leaf_size=30, metric='minkowski',\n",
            "                     metric_params=None, n_jobs=None, n_neighbors=1, p=2,\n",
            "                     weights='uniform') ------> Cross Validation Score : 0.517\n"
          ],
          "name": "stdout"
        },
        {
          "output_type": "stream",
          "text": [
            "\n",
            "\n",
            " 60%|██████    | 21/35 [05:03<01:02,  4.49s/it]\u001b[A\u001b[A"
          ],
          "name": "stderr"
        },
        {
          "output_type": "stream",
          "text": [
            "\n",
            "KNeighborsClassifier(algorithm='auto', leaf_size=30, metric='minkowski',\n",
            "                     metric_params=None, n_jobs=None, n_neighbors=1, p=2,\n",
            "                     weights='distance') ------> Cross Validation Score : 0.517\n"
          ],
          "name": "stdout"
        },
        {
          "output_type": "stream",
          "text": [
            "\n",
            "\n",
            " 63%|██████▎   | 22/35 [05:04<00:43,  3.37s/it]\u001b[A\u001b[A"
          ],
          "name": "stderr"
        },
        {
          "output_type": "stream",
          "text": [
            "\n",
            "KNeighborsClassifier(algorithm='auto', leaf_size=30, metric='minkowski',\n",
            "                     metric_params=None, n_jobs=None, n_neighbors=2, p=2,\n",
            "                     weights='distance') ------> Cross Validation Score : 0.517\n"
          ],
          "name": "stdout"
        },
        {
          "output_type": "stream",
          "text": [
            "\n",
            "\n",
            " 66%|██████▌   | 23/35 [05:04<00:31,  2.59s/it]\u001b[A\u001b[A"
          ],
          "name": "stderr"
        },
        {
          "output_type": "stream",
          "text": [
            "\n",
            "KNeighborsClassifier(algorithm='auto', leaf_size=30, metric='minkowski',\n",
            "                     metric_params=None, n_jobs=None, n_neighbors=3, p=2,\n",
            "                     weights='uniform') ------> Cross Validation Score : 0.525\n"
          ],
          "name": "stdout"
        },
        {
          "output_type": "stream",
          "text": [
            "\n",
            "\n",
            " 69%|██████▊   | 24/35 [05:05<00:22,  2.07s/it]\u001b[A\u001b[A"
          ],
          "name": "stderr"
        },
        {
          "output_type": "stream",
          "text": [
            "\n",
            "KNeighborsClassifier(algorithm='auto', leaf_size=30, metric='minkowski',\n",
            "                     metric_params=None, n_jobs=None, n_neighbors=3, p=2,\n",
            "                     weights='distance') ------> Cross Validation Score : 0.5369999999999999\n"
          ],
          "name": "stdout"
        },
        {
          "output_type": "stream",
          "text": [
            "\n",
            "\n",
            " 71%|███████▏  | 25/35 [05:06<00:16,  1.68s/it]\u001b[A\u001b[A"
          ],
          "name": "stderr"
        },
        {
          "output_type": "stream",
          "text": [
            "\n",
            "SVC(C=1.0, break_ties=False, cache_size=200, class_weight=None, coef0=0.0,\n",
            "    decision_function_shape='ovr', degree=3, gamma='scale', kernel='linear',\n",
            "    max_iter=-1, probability=False, random_state=None, shrinking=True,\n",
            "    tol=0.001, verbose=False) ------> Cross Validation Score : 0.6129999999999999\n"
          ],
          "name": "stdout"
        },
        {
          "output_type": "stream",
          "text": [
            "\n",
            "\n",
            " 74%|███████▍  | 26/35 [05:08<00:14,  1.66s/it]\u001b[A\u001b[A"
          ],
          "name": "stderr"
        },
        {
          "output_type": "stream",
          "text": [
            "\n",
            "SVC(C=1, break_ties=False, cache_size=200, class_weight=None, coef0=0.0,\n",
            "    decision_function_shape='ovr', degree=3, gamma='scale', kernel='poly',\n",
            "    max_iter=-1, probability=False, random_state=None, shrinking=True,\n",
            "    tol=0.001, verbose=False) ------> Cross Validation Score : 0.426\n"
          ],
          "name": "stdout"
        },
        {
          "output_type": "stream",
          "text": [
            "\n",
            "\n",
            " 77%|███████▋  | 27/35 [05:10<00:16,  2.02s/it]\u001b[A\u001b[A"
          ],
          "name": "stderr"
        },
        {
          "output_type": "stream",
          "text": [
            "\n",
            "SVC(C=1, break_ties=False, cache_size=200, class_weight=None, coef0=0.0,\n",
            "    decision_function_shape='ovr', degree=4, gamma='scale', kernel='poly',\n",
            "    max_iter=-1, probability=False, random_state=None, shrinking=True,\n",
            "    tol=0.001, verbose=False) ------> Cross Validation Score : 0.298\n"
          ],
          "name": "stdout"
        },
        {
          "output_type": "stream",
          "text": [
            "\n",
            "\n",
            " 80%|████████  | 28/35 [05:14<00:16,  2.41s/it]\u001b[A\u001b[A"
          ],
          "name": "stderr"
        },
        {
          "output_type": "stream",
          "text": [
            "\n",
            "SVC(C=1, break_ties=False, cache_size=200, class_weight=None, coef0=0.0,\n",
            "    decision_function_shape='ovr', degree=5, gamma='scale', kernel='poly',\n",
            "    max_iter=-1, probability=False, random_state=None, shrinking=True,\n",
            "    tol=0.001, verbose=False) ------> Cross Validation Score : 0.28600000000000003\n"
          ],
          "name": "stdout"
        },
        {
          "output_type": "stream",
          "text": [
            "\n",
            "\n",
            " 83%|████████▎ | 29/35 [05:17<00:15,  2.65s/it]\u001b[A\u001b[A"
          ],
          "name": "stderr"
        },
        {
          "output_type": "stream",
          "text": [
            "\n",
            "SVC(C=0.1, break_ties=False, cache_size=200, class_weight=None, coef0=0.0,\n",
            "    decision_function_shape='ovr', degree=5, gamma='scale', kernel='poly',\n",
            "    max_iter=-1, probability=False, random_state=None, shrinking=True,\n",
            "    tol=0.001, verbose=False) ------> Cross Validation Score : 0.205\n"
          ],
          "name": "stdout"
        },
        {
          "output_type": "stream",
          "text": [
            "\n",
            "\n",
            " 86%|████████▌ | 30/35 [05:20<00:14,  2.92s/it]\u001b[A\u001b[A"
          ],
          "name": "stderr"
        },
        {
          "output_type": "stream",
          "text": [
            "\n",
            "MLPClassifier(activation='relu', alpha=0.0001, batch_size='auto', beta_1=0.9,\n",
            "              beta_2=0.999, early_stopping=True, epsilon=1e-08,\n",
            "              hidden_layer_sizes=(100, 100), learning_rate='constant',\n",
            "              learning_rate_init=0.001, max_fun=15000, max_iter=500,\n",
            "              momentum=0.9, n_iter_no_change=10, nesterovs_momentum=True,\n",
            "              power_t=0.5, random_state=None, shuffle=True, solver='adam',\n",
            "              tol=0.0001, validation_fraction=0.1, verbose=False,\n",
            "              warm_start=False) ------> Cross Validation Score : 0.615\n"
          ],
          "name": "stdout"
        },
        {
          "output_type": "stream",
          "text": [
            "\n",
            "\n",
            " 89%|████████▊ | 31/35 [05:27<00:16,  4.08s/it]\u001b[A\u001b[A"
          ],
          "name": "stderr"
        },
        {
          "output_type": "stream",
          "text": [
            "\n",
            "MLPClassifier(activation='relu', alpha=0.0001, batch_size='auto', beta_1=0.9,\n",
            "              beta_2=0.999, early_stopping=True, epsilon=1e-08,\n",
            "              hidden_layer_sizes=(256, 256), learning_rate='constant',\n",
            "              learning_rate_init=0.001, max_fun=15000, max_iter=500,\n",
            "              momentum=0.9, n_iter_no_change=10, nesterovs_momentum=True,\n",
            "              power_t=0.5, random_state=None, shuffle=True, solver='adam',\n",
            "              tol=0.0001, validation_fraction=0.1, verbose=False,\n",
            "              warm_start=False) ------> Cross Validation Score : 0.623\n"
          ],
          "name": "stdout"
        },
        {
          "output_type": "stream",
          "text": [
            "\n",
            "\n",
            " 91%|█████████▏| 32/35 [05:41<00:21,  7.00s/it]\u001b[A\u001b[A"
          ],
          "name": "stderr"
        },
        {
          "output_type": "stream",
          "text": [
            "\n",
            "MLPClassifier(activation='relu', alpha=0.0001, batch_size='auto', beta_1=0.9,\n",
            "              beta_2=0.999, early_stopping=True, epsilon=1e-08,\n",
            "              hidden_layer_sizes=(100, 100), learning_rate='constant',\n",
            "              learning_rate_init=0.001, max_fun=15000, max_iter=500,\n",
            "              momentum=0.9, n_iter_no_change=10, nesterovs_momentum=True,\n",
            "              power_t=0.5, random_state=None, shuffle=True, solver='lbfgs',\n",
            "              tol=0.0001, validation_fraction=0.1, verbose=False,\n",
            "              warm_start=False) ------> Cross Validation Score : 0.6180000000000001\n"
          ],
          "name": "stdout"
        },
        {
          "output_type": "stream",
          "text": [
            "\n",
            "\n",
            " 94%|█████████▍| 33/35 [05:51<00:15,  7.87s/it]\u001b[A\u001b[A"
          ],
          "name": "stderr"
        },
        {
          "output_type": "stream",
          "text": [
            "\n",
            "MLPClassifier(activation='relu', alpha=0.0001, batch_size='auto', beta_1=0.9,\n",
            "              beta_2=0.999, early_stopping=True, epsilon=1e-08,\n",
            "              hidden_layer_sizes=(256, 256), learning_rate='constant',\n",
            "              learning_rate_init=0.001, max_fun=15000, max_iter=500,\n",
            "              momentum=0.9, n_iter_no_change=10, nesterovs_momentum=True,\n",
            "              power_t=0.5, random_state=None, shuffle=True, solver='lbfgs',\n",
            "              tol=0.0001, validation_fraction=0.1, verbose=False,\n",
            "              warm_start=False) ------> Cross Validation Score : 0.65\n"
          ],
          "name": "stdout"
        },
        {
          "output_type": "stream",
          "text": [
            "\n",
            "\n",
            " 97%|█████████▋| 34/35 [06:17<00:13, 13.22s/it]\u001b[A\u001b[A"
          ],
          "name": "stderr"
        },
        {
          "output_type": "stream",
          "text": [
            "\n",
            "MLPClassifier(activation='relu', alpha=0.0001, batch_size='auto', beta_1=0.9,\n",
            "              beta_2=0.999, early_stopping=True, epsilon=1e-08,\n",
            "              hidden_layer_sizes=(100, 100), learning_rate='constant',\n",
            "              learning_rate_init=0.0001, max_fun=15000, max_iter=500,\n",
            "              momentum=0.9, n_iter_no_change=10, nesterovs_momentum=True,\n",
            "              power_t=0.5, random_state=None, shuffle=True, solver='lbfgs',\n",
            "              tol=0.0001, validation_fraction=0.1, verbose=False,\n",
            "              warm_start=False) ------> Cross Validation Score : 0.639\n"
          ],
          "name": "stdout"
        },
        {
          "output_type": "stream",
          "text": [
            "\n",
            "\n",
            "100%|██████████| 35/35 [06:27<00:00, 11.06s/it]\n"
          ],
          "name": "stderr"
        }
      ]
    },
    {
      "cell_type": "code",
      "metadata": {
        "id": "3k9mahBWonmT"
      },
      "source": [
        "with open(\"/content/drive/MyDrive/For_Colab/Data/scores.txt\",\"w\") as f:\n",
        "    for i in scores:\n",
        "        f.write(i)"
      ],
      "execution_count": 235,
      "outputs": []
    },
    {
      "cell_type": "code",
      "metadata": {
        "id": "3-OzLuiit1J9"
      },
      "source": [
        "X_train, X_test, y_train, y_test = train_test_split(df.values, y, test_size=0.33, random_state=42)"
      ],
      "execution_count": 178,
      "outputs": []
    },
    {
      "cell_type": "code",
      "metadata": {
        "id": "mHCastNjt9E-"
      },
      "source": [
        "from sklearn.naive_bayes import GaussianNB, CategoricalNB, MultinomialNB"
      ],
      "execution_count": 179,
      "outputs": []
    },
    {
      "cell_type": "code",
      "metadata": {
        "id": "Zm6sYD_XvSM2"
      },
      "source": [
        "from sklearn.preprocessing import StandardScaler"
      ],
      "execution_count": 180,
      "outputs": []
    },
    {
      "cell_type": "code",
      "metadata": {
        "id": "kPLNH0_hu3qG"
      },
      "source": [
        "sc = StandardScaler()\n",
        "X_train = sc.fit_transform(X_train)\n",
        "X_test = sc.transform(X_test)"
      ],
      "execution_count": 181,
      "outputs": []
    },
    {
      "cell_type": "code",
      "metadata": {
        "colab": {
          "base_uri": "https://localhost:8080/"
        },
        "id": "8OVsv6OSu5VL",
        "outputId": "d5d537a7-3fb9-49c9-c305-57ec05b45d46"
      },
      "source": [
        "gnb.fit(X_train, y_train)"
      ],
      "execution_count": 182,
      "outputs": [
        {
          "output_type": "execute_result",
          "data": {
            "text/plain": [
              "MLPClassifier(activation='relu', alpha=0.0001, batch_size='auto', beta_1=0.9,\n",
              "              beta_2=0.999, early_stopping=True, epsilon=1e-08,\n",
              "              hidden_layer_sizes=(100, 100), learning_rate='constant',\n",
              "              learning_rate_init=0.001, max_fun=15000, max_iter=500,\n",
              "              momentum=0.9, n_iter_no_change=10, nesterovs_momentum=True,\n",
              "              power_t=0.5, random_state=None, shuffle=True, solver='adam',\n",
              "              tol=0.0001, validation_fraction=0.1, verbose=False,\n",
              "              warm_start=False)"
            ]
          },
          "metadata": {
            "tags": []
          },
          "execution_count": 182
        }
      ]
    },
    {
      "cell_type": "code",
      "metadata": {
        "colab": {
          "base_uri": "https://localhost:8080/"
        },
        "id": "yqoqxUfjvcDL",
        "outputId": "df9a59ba-7b24-4250-c549-bc8f7e2ac97d"
      },
      "source": [
        "gnb.score(X_test, y_test)"
      ],
      "execution_count": 183,
      "outputs": [
        {
          "output_type": "execute_result",
          "data": {
            "text/plain": [
              "0.5666666666666667"
            ]
          },
          "metadata": {
            "tags": []
          },
          "execution_count": 183
        }
      ]
    },
    {
      "cell_type": "code",
      "metadata": {
        "id": "uvONFklHwJBn"
      },
      "source": [
        ""
      ],
      "execution_count": null,
      "outputs": []
    }
  ]
}